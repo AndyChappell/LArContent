{
 "cells": [
  {
   "cell_type": "markdown",
   "metadata": {},
   "source": [
    "# Reference\n",
    "[uproot documentation](https://uproot.readthedocs.io/en/latest/)"
   ]
  },
  {
   "cell_type": "markdown",
   "metadata": {},
   "source": [
    "# File management and metadata"
   ]
  },
  {
   "cell_type": "code",
   "execution_count": null,
   "metadata": {},
   "outputs": [],
   "source": [
    "import uproot\n",
    "\n",
    "file = uproot.open('hits.root')"
   ]
  },
  {
   "cell_type": "code",
   "execution_count": null,
   "metadata": {},
   "outputs": [],
   "source": [
    "tree = file[\"tree\"]"
   ]
  },
  {
   "cell_type": "code",
   "execution_count": null,
   "metadata": {},
   "outputs": [],
   "source": [
    "N = tree.numentries"
   ]
  },
  {
   "cell_type": "code",
   "execution_count": null,
   "metadata": {},
   "outputs": [],
   "source": [
    "tree.keys()"
   ]
  },
  {
   "cell_type": "markdown",
   "metadata": {},
   "source": [
    "# Get data from tree"
   ]
  },
  {
   "cell_type": "code",
   "execution_count": null,
   "metadata": {},
   "outputs": [],
   "source": [
    "interaction = tree.array('trueInteraction')\n",
    "x_vrt_true = tree.array('trueVrtX')[:,np.newaxis]\n",
    "y_vrt_true = tree.array('trueVrtY')[:,np.newaxis]\n",
    "z_vrt_true = tree.array('trueVrtZ')[:,np.newaxis]\n",
    "x_coords_u = tree.array('xCoordsU')\n",
    "x_coords_v = tree.array('xCoordsV')\n",
    "x_coords_w = tree.array('xCoordsW')\n",
    "z_coords_u = tree.array('zCoordsU')\n",
    "z_coords_v = tree.array('zCoordsV')\n",
    "z_coords_w = tree.array('zCoordsW')\n",
    "e_u = tree.array('energiesU')\n",
    "e_v = tree.array('energiesV')\n",
    "e_w = tree.array('energiesW')"
   ]
  },
  {
   "cell_type": "markdown",
   "metadata": {},
   "source": [
    "# Repackage vertices and hits\n",
    "\n",
    "The interaction type is defined for each event such that\n",
    "\n",
    "```\n",
    "[ type, type, ... ] => interaction[event]\n",
    "```\n",
    "\n",
    "True vertices are concatenated\n",
    "```\n",
    "[(x0,y0,z0),(x1,y1,z1),...] => vertex_true[event,coord]\n",
    "```\n",
    "\n",
    "Coordinates are packaged per view such that\n",
    "```\n",
    "[ [ (x0,z0), (x1,z1), ...], [ (x0,z0), (x1,z1), ...], ...] => u_hits[event,hit,coord]\n",
    "```\n",
    "\n",
    "Energies are organised per view such that\n",
    "\n",
    "```\n",
    "[ [ e0, e1, ... ], [ e0, e1, ... ] ] => e_u[event,hit]\n",
    "```\n",
    "\n",
    "Event index i in each array refers to the same event, while hit index j in each array for a given view refers to the same hit."
   ]
  },
  {
   "cell_type": "code",
   "execution_count": null,
   "metadata": {},
   "outputs": [],
   "source": [
    "vertex_true = np.concatenate((x_vrt_true, y_vrt_true, z_vrt_true), axis=1)"
   ]
  },
  {
   "cell_type": "code",
   "execution_count": null,
   "metadata": {},
   "outputs": [],
   "source": [
    "from awkward import JaggedArray\n",
    "u_hits = JaggedArray.fromiter([ np.concatenate((x_coords_u[i][:, np.newaxis], z_coords_u[i][:, np.newaxis]), axis=1) \\\n",
    "          for i in range(x_coords_u.size) ])\n",
    "v_hits = JaggedArray.fromiter([ np.concatenate((x_coords_v[i][:, np.newaxis], z_coords_v[i][:, np.newaxis]), axis=1) \\\n",
    "          for i in range(x_coords_v.size) ])\n",
    "w_hits = JaggedArray.fromiter([ np.concatenate((x_coords_w[i][:, np.newaxis], z_coords_w[i][:, np.newaxis]), axis=1) \\\n",
    "          for i in range(x_coords_w.size) ])"
   ]
  },
  {
   "cell_type": "markdown",
   "metadata": {},
   "source": [
    "# Close file"
   ]
  },
  {
   "cell_type": "code",
   "execution_count": null,
   "metadata": {},
   "outputs": [],
   "source": [
    "file.close()"
   ]
  },
  {
   "cell_type": "code",
   "execution_count": null,
   "metadata": {},
   "outputs": [],
   "source": []
  }
 ],
 "metadata": {
  "kernelspec": {
   "display_name": "Python [conda env:pytorch] *",
   "language": "python",
   "name": "conda-env-pytorch-py"
  },
  "language_info": {
   "codemirror_mode": {
    "name": "ipython",
    "version": 3
   },
   "file_extension": ".py",
   "mimetype": "text/x-python",
   "name": "python",
   "nbconvert_exporter": "python",
   "pygments_lexer": "ipython3",
   "version": "3.6.10"
  },
  "varInspector": {
   "cols": {
    "lenName": 16,
    "lenType": 16,
    "lenVar": 40
   },
   "kernels_config": {
    "python": {
     "delete_cmd_postfix": "",
     "delete_cmd_prefix": "del ",
     "library": "var_list.py",
     "varRefreshCmd": "print(var_dic_list())"
    },
    "r": {
     "delete_cmd_postfix": ") ",
     "delete_cmd_prefix": "rm(",
     "library": "var_list.r",
     "varRefreshCmd": "cat(var_dic_list()) "
    }
   },
   "types_to_exclude": [
    "module",
    "function",
    "builtin_function_or_method",
    "instance",
    "_Feature"
   ],
   "window_display": false
  }
 },
 "nbformat": 4,
 "nbformat_minor": 4
}
